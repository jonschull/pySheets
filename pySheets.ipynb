{
 "cells": [
  {
   "cell_type": "markdown",
   "metadata": {},
   "source": [
    "## pySheets:  read andwrite pandas data to and from Excel and google Worksheets "
   ]
  },
  {
   "cell_type": "markdown",
   "metadata": {},
   "source": [
    "pySheets uses python to transfer data between spreadsheets (XLsx or Google) and easy-to-manipulate pandas dataframes.\n",
    "\n",
    "* __getDFB(file_or_gsURL)__  retrieves data from a filepath or the URL of a googleSheet.\n",
    "* __writeDFB(DFB, file_or_gsURL)__ (writes data to a filepath or the URL of a googleSheet.\n",
    "\n",
    "Thus, \n",
    "* To read or write an Excel file, you need its path (e.g., 'myExcelFile.xlsx')\n",
    "* To read or write a Google Spreadsheet, you need a credentials file, and the URL of the sheet.\n",
    "    e.g., gs = getGoogleSheet(credentialsFile, URL)\n",
    "    \n",
    "    [Here](https://gspread.readthedocs.io/en/latest/oauth2.html) is how to get a credentials file.\n",
    "\n",
    "\n",
    "We call the resulting data structure a \"DataFrameBook\")\n",
    "* An Excel or Google workbook may comprise multiple worksheets, each with it's own name.\n",
    "* Similarly a DataFrameBook (a DFB) comprises one or more dataframes, as returned by *pd.read_excel*.\n",
    "\n",
    "    OrderedDict('nameOfFirstDF': firstDF,\n",
    "                'nameofSecondDF: secondDF')\n",
    "\n",
    "Then, you can read/write a file or spreadsheet to or from a DFB using __the only two functions you should have to use__ (assuming you have your credentials file, as per the first cell.)\n",
    "* __getDFB(file_or_gsURL)__\n",
    "* __writeDFB(DFB, file_or_gsURL)__"
   ]
  },
  {
   "cell_type": "markdown",
   "metadata": {},
   "source": [
    "<img src='images/diagram.jpg' width=70% height=70%>"
   ]
  },
  {
   "cell_type": "code",
   "execution_count": 1,
   "metadata": {},
   "outputs": [],
   "source": [
    "#!pip3 install -U -r requirements.txt\n",
    "from IPython.display import display, HTML\n",
    "TESTING=True\n",
    "CREDENTIALSFILE = 'enablebadger-b31383b767ef.json'"
   ]
  },
  {
   "cell_type": "markdown",
   "metadata": {},
   "source": [
    "### utilities"
   ]
  },
  {
   "cell_type": "code",
   "execution_count": 2,
   "metadata": {},
   "outputs": [
    {
     "name": "stdout",
     "output_type": "stream",
     "text": [
      "2019-04-02T01:16:14 pySheets.py: abc def 2\n"
     ]
    }
   ],
   "source": [
    "#!pip3 install arrow\n",
    "def log(*args):\n",
    "    msg = [str(arg) for arg in args]\n",
    "    msg=' '.join(msg)\n",
    "    import arrow\n",
    "    log=open('pySheets.log.txt', 'a')\n",
    "    output=str(arrow.now()).split('.')[0] + ' pySheets.py: '   + msg\n",
    "    log.write( output + '\\n' )\n",
    "    print( output )\n",
    "\n",
    "if TESTING: log('abc','def', 2)"
   ]
  },
  {
   "cell_type": "markdown",
   "metadata": {},
   "source": [
    "#### showDF (and illustrate relation between dataframe and array of dicts)"
   ]
  },
  {
   "cell_type": "code",
   "execution_count": 3,
   "metadata": {},
   "outputs": [
    {
     "data": {
      "text/html": [
       "<table border=\"1\" class=\"dataframe\">\n",
       "  <thead>\n",
       "    <tr style=\"text-align: right;\">\n",
       "      <th></th>\n",
       "      <th>a</th>\n",
       "      <th>b</th>\n",
       "    </tr>\n",
       "  </thead>\n",
       "  <tbody>\n",
       "    <tr>\n",
       "      <th>0</th>\n",
       "      <td>1</td>\n",
       "      <td>2</td>\n",
       "    </tr>\n",
       "    <tr>\n",
       "      <th>1</th>\n",
       "      <td>3</td>\n",
       "      <td>4</td>\n",
       "    </tr>\n",
       "    <tr>\n",
       "      <th>2</th>\n",
       "      <td>5</td>\n",
       "      <td>6</td>\n",
       "    </tr>\n",
       "  </tbody>\n",
       "</table>"
      ],
      "text/plain": [
       "<IPython.core.display.HTML object>"
      ]
     },
     "metadata": {},
     "output_type": "display_data"
    },
    {
     "name": "stdout",
     "output_type": "stream",
     "text": [
      "showDF renders dataframes even they are not the last item in a cell\n"
     ]
    }
   ],
   "source": [
    "import pandas as pd\n",
    "def showDF(df):\n",
    "    display(HTML(df.to_html()))\n",
    "    \n",
    "if TESTING:\n",
    "    arrayOfDicts = [dict(a=1,b=2),\n",
    "                dict(a=3,b=4),\n",
    "                dict(a=5,b=6)]\n",
    "    \n",
    "    df = pd.DataFrame(arrayOfDicts)\n",
    "    showDF(df)\n",
    "    print('showDF renders dataframes even they are not the last item in a cell' )"
   ]
  },
  {
   "cell_type": "code",
   "execution_count": 4,
   "metadata": {},
   "outputs": [
    {
     "data": {
      "text/html": [
       "<i><b>showDFB: </i></b>  This DataFrameBook contains these sheets:['Sheet1', 'Copy']"
      ],
      "text/plain": [
       "<IPython.core.display.HTML object>"
      ]
     },
     "metadata": {},
     "output_type": "display_data"
    },
    {
     "data": {
      "text/html": [
       "<hr/>"
      ],
      "text/plain": [
       "<IPython.core.display.HTML object>"
      ]
     },
     "metadata": {},
     "output_type": "display_data"
    },
    {
     "data": {
      "text/html": [
       "<i>Sheet1</i>"
      ],
      "text/plain": [
       "<IPython.core.display.HTML object>"
      ]
     },
     "metadata": {},
     "output_type": "display_data"
    },
    {
     "data": {
      "text/html": [
       "<table border=\"1\" class=\"dataframe\">\n",
       "  <thead>\n",
       "    <tr style=\"text-align: right;\">\n",
       "      <th></th>\n",
       "      <th>a</th>\n",
       "      <th>b</th>\n",
       "    </tr>\n",
       "  </thead>\n",
       "  <tbody>\n",
       "    <tr>\n",
       "      <th>0</th>\n",
       "      <td>1</td>\n",
       "      <td>2</td>\n",
       "    </tr>\n",
       "    <tr>\n",
       "      <th>1</th>\n",
       "      <td>3</td>\n",
       "      <td>4</td>\n",
       "    </tr>\n",
       "    <tr>\n",
       "      <th>2</th>\n",
       "      <td>5</td>\n",
       "      <td>6</td>\n",
       "    </tr>\n",
       "  </tbody>\n",
       "</table>"
      ],
      "text/plain": [
       "<IPython.core.display.HTML object>"
      ]
     },
     "metadata": {},
     "output_type": "display_data"
    },
    {
     "data": {
      "text/html": [
       "<hr/>"
      ],
      "text/plain": [
       "<IPython.core.display.HTML object>"
      ]
     },
     "metadata": {},
     "output_type": "display_data"
    },
    {
     "data": {
      "text/html": [
       "<i>Copy</i>"
      ],
      "text/plain": [
       "<IPython.core.display.HTML object>"
      ]
     },
     "metadata": {},
     "output_type": "display_data"
    },
    {
     "data": {
      "text/html": [
       "<table border=\"1\" class=\"dataframe\">\n",
       "  <thead>\n",
       "    <tr style=\"text-align: right;\">\n",
       "      <th></th>\n",
       "      <th>a</th>\n",
       "      <th>b</th>\n",
       "    </tr>\n",
       "  </thead>\n",
       "  <tbody>\n",
       "    <tr>\n",
       "      <th>0</th>\n",
       "      <td>1</td>\n",
       "      <td>2</td>\n",
       "    </tr>\n",
       "    <tr>\n",
       "      <th>1</th>\n",
       "      <td>3</td>\n",
       "      <td>4</td>\n",
       "    </tr>\n",
       "    <tr>\n",
       "      <th>2</th>\n",
       "      <td>5</td>\n",
       "      <td>6</td>\n",
       "    </tr>\n",
       "  </tbody>\n",
       "</table>"
      ],
      "text/plain": [
       "<IPython.core.display.HTML object>"
      ]
     },
     "metadata": {},
     "output_type": "display_data"
    }
   ],
   "source": [
    "dfb=dict(Sheet1= df, Copy=df)\n",
    "\n",
    "def showDFB(dfb,msg='showDFB: '):\n",
    "    keys=list(dfb.keys())\n",
    "    display(HTML('<i><b>' + msg + '</i></b>' + '  This DataFrameBook contains these sheets:' + str(keys)))\n",
    "    for key in keys:\n",
    "        display(HTML('<hr/>'))\n",
    "        display(HTML('<i>'+ key + '</i>'))\n",
    "        showDF(dfb[key])\n",
    "        \n",
    "if TESTING:\n",
    "    showDFB(dfb)"
   ]
  },
  {
   "cell_type": "markdown",
   "metadata": {},
   "source": [
    "## DBF <-> XL"
   ]
  },
  {
   "cell_type": "code",
   "execution_count": 5,
   "metadata": {},
   "outputs": [
    {
     "name": "stdout",
     "output_type": "stream",
     "text": [
      "2019-04-02T01:16:15 pySheets.py: DFB_to_XL:  Wrote to test.xls\n",
      "2019-04-02T01:16:15 pySheets.py: xl_to_DFB:  Reading test.xls\n"
     ]
    },
    {
     "data": {
      "text/html": [
       "<i><b>original dfb</i></b>  This DataFrameBook contains these sheets:['Sheet1', 'Copy']"
      ],
      "text/plain": [
       "<IPython.core.display.HTML object>"
      ]
     },
     "metadata": {},
     "output_type": "display_data"
    },
    {
     "data": {
      "text/html": [
       "<hr/>"
      ],
      "text/plain": [
       "<IPython.core.display.HTML object>"
      ]
     },
     "metadata": {},
     "output_type": "display_data"
    },
    {
     "data": {
      "text/html": [
       "<i>Sheet1</i>"
      ],
      "text/plain": [
       "<IPython.core.display.HTML object>"
      ]
     },
     "metadata": {},
     "output_type": "display_data"
    },
    {
     "data": {
      "text/html": [
       "<table border=\"1\" class=\"dataframe\">\n",
       "  <thead>\n",
       "    <tr style=\"text-align: right;\">\n",
       "      <th></th>\n",
       "      <th>a</th>\n",
       "      <th>b</th>\n",
       "    </tr>\n",
       "  </thead>\n",
       "  <tbody>\n",
       "    <tr>\n",
       "      <th>0</th>\n",
       "      <td>1</td>\n",
       "      <td>2</td>\n",
       "    </tr>\n",
       "    <tr>\n",
       "      <th>1</th>\n",
       "      <td>3</td>\n",
       "      <td>4</td>\n",
       "    </tr>\n",
       "    <tr>\n",
       "      <th>2</th>\n",
       "      <td>5</td>\n",
       "      <td>6</td>\n",
       "    </tr>\n",
       "  </tbody>\n",
       "</table>"
      ],
      "text/plain": [
       "<IPython.core.display.HTML object>"
      ]
     },
     "metadata": {},
     "output_type": "display_data"
    },
    {
     "data": {
      "text/html": [
       "<hr/>"
      ],
      "text/plain": [
       "<IPython.core.display.HTML object>"
      ]
     },
     "metadata": {},
     "output_type": "display_data"
    },
    {
     "data": {
      "text/html": [
       "<i>Copy</i>"
      ],
      "text/plain": [
       "<IPython.core.display.HTML object>"
      ]
     },
     "metadata": {},
     "output_type": "display_data"
    },
    {
     "data": {
      "text/html": [
       "<table border=\"1\" class=\"dataframe\">\n",
       "  <thead>\n",
       "    <tr style=\"text-align: right;\">\n",
       "      <th></th>\n",
       "      <th>a</th>\n",
       "      <th>b</th>\n",
       "    </tr>\n",
       "  </thead>\n",
       "  <tbody>\n",
       "    <tr>\n",
       "      <th>0</th>\n",
       "      <td>1</td>\n",
       "      <td>2</td>\n",
       "    </tr>\n",
       "    <tr>\n",
       "      <th>1</th>\n",
       "      <td>3</td>\n",
       "      <td>4</td>\n",
       "    </tr>\n",
       "    <tr>\n",
       "      <th>2</th>\n",
       "      <td>5</td>\n",
       "      <td>6</td>\n",
       "    </tr>\n",
       "  </tbody>\n",
       "</table>"
      ],
      "text/plain": [
       "<IPython.core.display.HTML object>"
      ]
     },
     "metadata": {},
     "output_type": "display_data"
    },
    {
     "data": {
      "text/html": [
       "<i><b>reconstructed dfb</i></b>  This DataFrameBook contains these sheets:['Sheet1', 'Copy']"
      ],
      "text/plain": [
       "<IPython.core.display.HTML object>"
      ]
     },
     "metadata": {},
     "output_type": "display_data"
    },
    {
     "data": {
      "text/html": [
       "<hr/>"
      ],
      "text/plain": [
       "<IPython.core.display.HTML object>"
      ]
     },
     "metadata": {},
     "output_type": "display_data"
    },
    {
     "data": {
      "text/html": [
       "<i>Sheet1</i>"
      ],
      "text/plain": [
       "<IPython.core.display.HTML object>"
      ]
     },
     "metadata": {},
     "output_type": "display_data"
    },
    {
     "data": {
      "text/html": [
       "<table border=\"1\" class=\"dataframe\">\n",
       "  <thead>\n",
       "    <tr style=\"text-align: right;\">\n",
       "      <th></th>\n",
       "      <th>a</th>\n",
       "      <th>b</th>\n",
       "    </tr>\n",
       "  </thead>\n",
       "  <tbody>\n",
       "    <tr>\n",
       "      <th>0</th>\n",
       "      <td>1</td>\n",
       "      <td>2</td>\n",
       "    </tr>\n",
       "    <tr>\n",
       "      <th>1</th>\n",
       "      <td>3</td>\n",
       "      <td>4</td>\n",
       "    </tr>\n",
       "    <tr>\n",
       "      <th>2</th>\n",
       "      <td>5</td>\n",
       "      <td>6</td>\n",
       "    </tr>\n",
       "  </tbody>\n",
       "</table>"
      ],
      "text/plain": [
       "<IPython.core.display.HTML object>"
      ]
     },
     "metadata": {},
     "output_type": "display_data"
    },
    {
     "data": {
      "text/html": [
       "<hr/>"
      ],
      "text/plain": [
       "<IPython.core.display.HTML object>"
      ]
     },
     "metadata": {},
     "output_type": "display_data"
    },
    {
     "data": {
      "text/html": [
       "<i>Copy</i>"
      ],
      "text/plain": [
       "<IPython.core.display.HTML object>"
      ]
     },
     "metadata": {},
     "output_type": "display_data"
    },
    {
     "data": {
      "text/html": [
       "<table border=\"1\" class=\"dataframe\">\n",
       "  <thead>\n",
       "    <tr style=\"text-align: right;\">\n",
       "      <th></th>\n",
       "      <th>a</th>\n",
       "      <th>b</th>\n",
       "    </tr>\n",
       "  </thead>\n",
       "  <tbody>\n",
       "    <tr>\n",
       "      <th>0</th>\n",
       "      <td>1</td>\n",
       "      <td>2</td>\n",
       "    </tr>\n",
       "    <tr>\n",
       "      <th>1</th>\n",
       "      <td>3</td>\n",
       "      <td>4</td>\n",
       "    </tr>\n",
       "    <tr>\n",
       "      <th>2</th>\n",
       "      <td>5</td>\n",
       "      <td>6</td>\n",
       "    </tr>\n",
       "  </tbody>\n",
       "</table>"
      ],
      "text/plain": [
       "<IPython.core.display.HTML object>"
      ]
     },
     "metadata": {},
     "output_type": "display_data"
    },
    {
     "name": "stdout",
     "output_type": "stream",
     "text": [
      "\n",
      "also here is df2gSheetTester.xlsx\n",
      "2019-04-02T01:16:15 pySheets.py: xl_to_DFB:  Reading df2gSheetTester.xlsx\n"
     ]
    },
    {
     "data": {
      "text/html": [
       "<i><b>showDFB: </i></b>  This DataFrameBook contains these sheets:['SheetTheFirst', 'SheetTheSecond']"
      ],
      "text/plain": [
       "<IPython.core.display.HTML object>"
      ]
     },
     "metadata": {},
     "output_type": "display_data"
    },
    {
     "data": {
      "text/html": [
       "<hr/>"
      ],
      "text/plain": [
       "<IPython.core.display.HTML object>"
      ]
     },
     "metadata": {},
     "output_type": "display_data"
    },
    {
     "data": {
      "text/html": [
       "<i>SheetTheFirst</i>"
      ],
      "text/plain": [
       "<IPython.core.display.HTML object>"
      ]
     },
     "metadata": {},
     "output_type": "display_data"
    },
    {
     "data": {
      "text/html": [
       "<table border=\"1\" class=\"dataframe\">\n",
       "  <thead>\n",
       "    <tr style=\"text-align: right;\">\n",
       "      <th></th>\n",
       "      <th>numbers</th>\n",
       "      <th>letters</th>\n",
       "    </tr>\n",
       "  </thead>\n",
       "  <tbody>\n",
       "    <tr>\n",
       "      <th>0</th>\n",
       "      <td>1</td>\n",
       "      <td>a</td>\n",
       "    </tr>\n",
       "    <tr>\n",
       "      <th>1</th>\n",
       "      <td>2</td>\n",
       "      <td>b</td>\n",
       "    </tr>\n",
       "    <tr>\n",
       "      <th>2</th>\n",
       "      <td>3</td>\n",
       "      <td>c</td>\n",
       "    </tr>\n",
       "  </tbody>\n",
       "</table>"
      ],
      "text/plain": [
       "<IPython.core.display.HTML object>"
      ]
     },
     "metadata": {},
     "output_type": "display_data"
    },
    {
     "data": {
      "text/html": [
       "<hr/>"
      ],
      "text/plain": [
       "<IPython.core.display.HTML object>"
      ]
     },
     "metadata": {},
     "output_type": "display_data"
    },
    {
     "data": {
      "text/html": [
       "<i>SheetTheSecond</i>"
      ],
      "text/plain": [
       "<IPython.core.display.HTML object>"
      ]
     },
     "metadata": {},
     "output_type": "display_data"
    },
    {
     "data": {
      "text/html": [
       "<table border=\"1\" class=\"dataframe\">\n",
       "  <thead>\n",
       "    <tr style=\"text-align: right;\">\n",
       "      <th></th>\n",
       "      <th>col1</th>\n",
       "    </tr>\n",
       "  </thead>\n",
       "  <tbody>\n",
       "    <tr>\n",
       "      <th>0</th>\n",
       "      <td>eeny</td>\n",
       "    </tr>\n",
       "    <tr>\n",
       "      <th>1</th>\n",
       "      <td>meeny</td>\n",
       "    </tr>\n",
       "    <tr>\n",
       "      <th>2</th>\n",
       "      <td>miney</td>\n",
       "    </tr>\n",
       "    <tr>\n",
       "      <th>3</th>\n",
       "      <td>moe</td>\n",
       "    </tr>\n",
       "  </tbody>\n",
       "</table>"
      ],
      "text/plain": [
       "<IPython.core.display.HTML object>"
      ]
     },
     "metadata": {},
     "output_type": "display_data"
    }
   ],
   "source": [
    "#!pip3 install XlsxWriter\n",
    "\n",
    "def DFB_to_XL(DFB, fileName='test.xlsx'):\n",
    "    #https://xlsxwriter.readthedocs.io/example_pandas_multiple.html\n",
    "    writer = pd.ExcelWriter(fileName, engine='xlsxwriter')\n",
    "    for name, df in DFB.items():\n",
    "        df.to_excel(writer, sheet_name=name, index=False)\n",
    "    writer.save()\n",
    "    log('DFB_to_XL:  Wrote to', fileName)\n",
    "\n",
    "def XL_to_DFB(fileName='df2gSheetTester.xlsx'):\n",
    "    \"\"\"take an xlsx file and return an ordered dict of DataFrames (DFB)\"\"\"\n",
    "    log('xl_to_DFB:  Reading', fileName)\n",
    "    return pd.read_excel(fileName,sheet_name=None)\n",
    "\n",
    "def test_DFB_XL_DFB():\n",
    "    DFB_to_XL(dfb,'test.xls')\n",
    "    new_dfb = XL_to_DFB('test.xls')\n",
    "    showDFB(dfb, 'original dfb')\n",
    "          \n",
    "    showDFB(new_dfb, 'reconstructed dfb')\n",
    "    \n",
    "    print('\\nalso here is df2gSheetTester.xlsx')\n",
    "    showDFB(XL_to_DFB())\n",
    " \n",
    "if TESTING:  \n",
    "    test_DFB_XL_DFB()\n",
    "    "
   ]
  },
  {
   "cell_type": "markdown",
   "metadata": {},
   "source": [
    "## enter GoogleSheets...."
   ]
  },
  {
   "cell_type": "code",
   "execution_count": 10,
   "metadata": {},
   "outputs": [
    {
     "name": "stdout",
     "output_type": "stream",
     "text": [
      "2019-04-02T01:18:14 pySheets.py: getGoogleSheet:   <pygsheets.client.Client object at 0x7f3770da9780>\n",
      "[<Worksheet 'SheetTheFirst' index:0>, <Worksheet 'SheetTheSecond' index:1>]\n"
     ]
    }
   ],
   "source": [
    "#!pip3 install pygsheets\n",
    "import pygsheets\n",
    "\n",
    "def getGoogleSheet(URLofSheet='https://docs.google.com/spreadsheets/d/1y19PMDTSqZkpW3UcwqG81tQMAH_g91iIqjrmBN_jTRw/edit#gid=0',\n",
    "                  credentialsFile = CREDENTIALSFILE):\n",
    "    \"\"\"\n",
    "    1. Have credentials in credentials fileName.  [get google drive api credentials]\n",
    "    2. Sheet must exist at URLofSheet\n",
    "    3. Sheet must be shared with the email addess in the credentialsFile\n",
    "    \"\"\"\n",
    "    googleClient = pygsheets.authorize(service_file=credentialsFile)\n",
    "    log('getGoogleSheet:  ', googleClient)\n",
    "    return googleClient.open_by_url(URLofSheet)\n",
    "\n",
    "def test_getGoogleSheet():\n",
    "    gs = getGoogleSheet()\n",
    "    print(gs.worksheets())\n",
    "\n",
    "if TESTING: \n",
    "    test_getGoogleSheet()"
   ]
  },
  {
   "cell_type": "markdown",
   "metadata": {},
   "source": [
    "### DFB <-> GS"
   ]
  },
  {
   "cell_type": "code",
   "execution_count": 11,
   "metadata": {},
   "outputs": [
    {
     "name": "stdout",
     "output_type": "stream",
     "text": [
      "2019-04-02T01:18:18 pySheets.py: getGoogleSheet:   <pygsheets.client.Client object at 0x7f3770e5d6d8>\n"
     ]
    },
    {
     "data": {
      "text/html": [
       "<i><b>https://docs.google.com/spreadsheets/d/1y19PMDTSqZkpW3UcwqG81tQMAH_g91iIqjrmBN_jTRw/edit#gid=0</i></b>  This DataFrameBook contains these sheets:['SheetTheFirst', 'SheetTheSecond']"
      ],
      "text/plain": [
       "<IPython.core.display.HTML object>"
      ]
     },
     "metadata": {},
     "output_type": "display_data"
    },
    {
     "data": {
      "text/html": [
       "<hr/>"
      ],
      "text/plain": [
       "<IPython.core.display.HTML object>"
      ]
     },
     "metadata": {},
     "output_type": "display_data"
    },
    {
     "data": {
      "text/html": [
       "<i>SheetTheFirst</i>"
      ],
      "text/plain": [
       "<IPython.core.display.HTML object>"
      ]
     },
     "metadata": {},
     "output_type": "display_data"
    },
    {
     "data": {
      "text/html": [
       "<table border=\"1\" class=\"dataframe\">\n",
       "  <thead>\n",
       "    <tr style=\"text-align: right;\">\n",
       "      <th></th>\n",
       "      <th>letters</th>\n",
       "      <th>numbers</th>\n",
       "    </tr>\n",
       "  </thead>\n",
       "  <tbody>\n",
       "    <tr>\n",
       "      <th>0</th>\n",
       "      <td>a</td>\n",
       "      <td>1</td>\n",
       "    </tr>\n",
       "    <tr>\n",
       "      <th>1</th>\n",
       "      <td>b</td>\n",
       "      <td>2</td>\n",
       "    </tr>\n",
       "    <tr>\n",
       "      <th>2</th>\n",
       "      <td>c</td>\n",
       "      <td>3</td>\n",
       "    </tr>\n",
       "  </tbody>\n",
       "</table>"
      ],
      "text/plain": [
       "<IPython.core.display.HTML object>"
      ]
     },
     "metadata": {},
     "output_type": "display_data"
    },
    {
     "data": {
      "text/html": [
       "<hr/>"
      ],
      "text/plain": [
       "<IPython.core.display.HTML object>"
      ]
     },
     "metadata": {},
     "output_type": "display_data"
    },
    {
     "data": {
      "text/html": [
       "<i>SheetTheSecond</i>"
      ],
      "text/plain": [
       "<IPython.core.display.HTML object>"
      ]
     },
     "metadata": {},
     "output_type": "display_data"
    },
    {
     "data": {
      "text/html": [
       "<table border=\"1\" class=\"dataframe\">\n",
       "  <thead>\n",
       "    <tr style=\"text-align: right;\">\n",
       "      <th></th>\n",
       "      <th>col1</th>\n",
       "    </tr>\n",
       "  </thead>\n",
       "  <tbody>\n",
       "    <tr>\n",
       "      <th>0</th>\n",
       "      <td>eeny</td>\n",
       "    </tr>\n",
       "    <tr>\n",
       "      <th>1</th>\n",
       "      <td>meeny</td>\n",
       "    </tr>\n",
       "    <tr>\n",
       "      <th>2</th>\n",
       "      <td>miney</td>\n",
       "    </tr>\n",
       "    <tr>\n",
       "      <th>3</th>\n",
       "      <td>moe</td>\n",
       "    </tr>\n",
       "  </tbody>\n",
       "</table>"
      ],
      "text/plain": [
       "<IPython.core.display.HTML object>"
      ]
     },
     "metadata": {},
     "output_type": "display_data"
    }
   ],
   "source": [
    "def GS_to_DFB(gsURL):\n",
    "    \"\"\"take the URL of a Gsheet and return a DFB\"\"\"\n",
    "    gs=getGoogleSheet(gsURL)\n",
    "    from collections import OrderedDict\n",
    "    OD = OrderedDict()\n",
    "    for worksheet in gs.worksheets():\n",
    "        title = worksheet.title\n",
    "        df = pd.DataFrame(worksheet.get_all_records())\n",
    "        OD[title] = df\n",
    "    return OD\n",
    "\n",
    "def test_GS_to_DFB():\n",
    "    URL = 'https://docs.google.com/spreadsheets/d/1y19PMDTSqZkpW3UcwqG81tQMAH_g91iIqjrmBN_jTRw/edit#gid=0'\n",
    "    dfb = GS_to_DFB(URL)\n",
    "    showDFB(dfb, URL)\n",
    "\n",
    "if TESTING: \n",
    "    test_GS_to_DFB()"
   ]
  },
  {
   "cell_type": "code",
   "execution_count": 12,
   "metadata": {},
   "outputs": [
    {
     "name": "stdout",
     "output_type": "stream",
     "text": [
      "2019-04-02T01:18:21 pySheets.py: xl_to_DFB:  Reading test2.xls\n",
      "2019-04-02T01:18:21 pySheets.py: getGoogleSheet:   <pygsheets.client.Client object at 0x7f3770c4ef28>\n",
      "2019-04-02T01:18:24 pySheets.py: DFB_to_GS: updated pySheetsTester\n"
     ]
    }
   ],
   "source": [
    "def DFB_to_GS(DFB, gsURL):\n",
    "    gs = getGoogleSheet(gsURL)\n",
    "    while len(DFB)>len(gs.worksheets()): #add sheets if necessary\n",
    "        gs.add_worksheet('temp',1,1)\n",
    "    for i,title in enumerate(DFB.keys()):\n",
    "        gs[i].clear()\n",
    "        gs[i].title = title\n",
    "        gs[i].set_dataframe(DFB[title],(1,1))# insert the data\n",
    "    log('DFB_to_GS: updated', gs.title)\n",
    "\n",
    "def test_DFB_to_GS(): #test: sheet in cloud changes\n",
    "    DFB = XL_to_DFB('test2.xls')\n",
    "    gsURL='https://docs.google.com/spreadsheets/d/1y19PMDTSqZkpW3UcwqG81tQMAH_g91iIqjrmBN_jTRw/edit#gid=1856401945'\n",
    "    DFB_to_GS(DFB,gsURL)\n",
    "\n",
    "if TESTING: \n",
    "    test_DFB_to_GS()"
   ]
  },
  {
   "cell_type": "markdown",
   "metadata": {},
   "source": [
    "# get_DFB "
   ]
  },
  {
   "cell_type": "code",
   "execution_count": 13,
   "metadata": {},
   "outputs": [
    {
     "name": "stdout",
     "output_type": "stream",
     "text": [
      "2019-04-02T01:18:24 pySheets.py: get_DFB:  working on https://docs.google.com/spreadsheets/d/1y19PMDTSqZkpW3UcwqG81tQMAH_g91iIqjrmBN_jTRw/edit#gid=0\n",
      "2019-04-02T01:18:24 pySheets.py: getGoogleSheet:   <pygsheets.client.Client object at 0x7f3770e5d320>\n"
     ]
    },
    {
     "data": {
      "text/html": [
       "<i><b>DFB from google Sheet</i></b>  This DataFrameBook contains these sheets:['SheetTheFirst', 'SheetTheSecond']"
      ],
      "text/plain": [
       "<IPython.core.display.HTML object>"
      ]
     },
     "metadata": {},
     "output_type": "display_data"
    },
    {
     "data": {
      "text/html": [
       "<hr/>"
      ],
      "text/plain": [
       "<IPython.core.display.HTML object>"
      ]
     },
     "metadata": {},
     "output_type": "display_data"
    },
    {
     "data": {
      "text/html": [
       "<i>SheetTheFirst</i>"
      ],
      "text/plain": [
       "<IPython.core.display.HTML object>"
      ]
     },
     "metadata": {},
     "output_type": "display_data"
    },
    {
     "data": {
      "text/html": [
       "<table border=\"1\" class=\"dataframe\">\n",
       "  <thead>\n",
       "    <tr style=\"text-align: right;\">\n",
       "      <th></th>\n",
       "      <th>letters</th>\n",
       "      <th>numbers</th>\n",
       "    </tr>\n",
       "  </thead>\n",
       "  <tbody>\n",
       "    <tr>\n",
       "      <th>0</th>\n",
       "      <td>a</td>\n",
       "      <td>1</td>\n",
       "    </tr>\n",
       "    <tr>\n",
       "      <th>1</th>\n",
       "      <td>b</td>\n",
       "      <td>2</td>\n",
       "    </tr>\n",
       "    <tr>\n",
       "      <th>2</th>\n",
       "      <td>c</td>\n",
       "      <td>3</td>\n",
       "    </tr>\n",
       "  </tbody>\n",
       "</table>"
      ],
      "text/plain": [
       "<IPython.core.display.HTML object>"
      ]
     },
     "metadata": {},
     "output_type": "display_data"
    },
    {
     "data": {
      "text/html": [
       "<hr/>"
      ],
      "text/plain": [
       "<IPython.core.display.HTML object>"
      ]
     },
     "metadata": {},
     "output_type": "display_data"
    },
    {
     "data": {
      "text/html": [
       "<i>SheetTheSecond</i>"
      ],
      "text/plain": [
       "<IPython.core.display.HTML object>"
      ]
     },
     "metadata": {},
     "output_type": "display_data"
    },
    {
     "data": {
      "text/html": [
       "<table border=\"1\" class=\"dataframe\">\n",
       "  <thead>\n",
       "    <tr style=\"text-align: right;\">\n",
       "      <th></th>\n",
       "      <th>col1</th>\n",
       "    </tr>\n",
       "  </thead>\n",
       "  <tbody>\n",
       "    <tr>\n",
       "      <th>0</th>\n",
       "      <td>eeny</td>\n",
       "    </tr>\n",
       "    <tr>\n",
       "      <th>1</th>\n",
       "      <td>meeny</td>\n",
       "    </tr>\n",
       "    <tr>\n",
       "      <th>2</th>\n",
       "      <td>miney</td>\n",
       "    </tr>\n",
       "    <tr>\n",
       "      <th>3</th>\n",
       "      <td>moe</td>\n",
       "    </tr>\n",
       "  </tbody>\n",
       "</table>"
      ],
      "text/plain": [
       "<IPython.core.display.HTML object>"
      ]
     },
     "metadata": {},
     "output_type": "display_data"
    }
   ],
   "source": [
    "def get_DFB(fileName_or_gsURL):\n",
    "    log('get_DFB:  working on', fileName_or_gsURL)\n",
    "    if fileName_or_gsURL.startswith('http'):\n",
    "        return GS_to_DFB(fileName_or_gsURL)\n",
    "    else:\n",
    "        return XL_to_DFB(fileName_or_gsURL)\n",
    "\n",
    "def test_get_DFB():\n",
    "    #dfb =  get_DFB('test2.xls')\n",
    "    #showDFB(dfb, 'DFB from test2.xls')\n",
    "    \n",
    "    dfb = get_DFB('https://docs.google.com/spreadsheets/d/1y19PMDTSqZkpW3UcwqG81tQMAH_g91iIqjrmBN_jTRw/edit#gid=0')\n",
    "    showDFB(dfb, 'DFB from google Sheet')\n",
    "\n",
    "if TESTING: \n",
    "    test_get_DFB()"
   ]
  },
  {
   "cell_type": "markdown",
   "metadata": {},
   "source": [
    "# write_DFB"
   ]
  },
  {
   "cell_type": "code",
   "execution_count": 14,
   "metadata": {},
   "outputs": [
    {
     "name": "stdout",
     "output_type": "stream",
     "text": [
      "2019-04-02T01:18:27 pySheets.py: xl_to_DFB:  Reading df2gSheetTester.xlsx\n",
      "2019-04-02T01:18:27 pySheets.py: write_DFB processing odict_keys(['SheetTheFirst', 'SheetTheSecond']) test2.xls\n",
      "2019-04-02T01:18:27 pySheets.py: DFB_to_XL:  Wrote to test2.xls\n",
      "2019-04-02T01:18:27 pySheets.py: write_DFB processing odict_keys(['SheetTheFirst', 'SheetTheSecond']) https://docs.google.com/spreadsheets/d/1y19PMDTSqZkpW3UcwqG81tQMAH_g91iIqjrmBN_jTRw/edit#gid=1856401945\n",
      "2019-04-02T01:18:27 pySheets.py: getGoogleSheet:   <pygsheets.client.Client object at 0x7f379eb669e8>\n",
      "2019-04-02T01:18:29 pySheets.py: DFB_to_GS: updated pySheetsTester\n"
     ]
    }
   ],
   "source": [
    "def write_DFB(dfb, fileName_or_gsURL):\n",
    "    log('write_DFB processing', dfb.keys(), fileName_or_gsURL)\n",
    "    if fileName_or_gsURL.startswith('http'):\n",
    "        DFB_to_GS(dfb,fileName_or_gsURL)\n",
    "    else:\n",
    "        DFB_to_XL(dfb,fileName_or_gsURL)\n",
    "\n",
    "\n",
    "def test_write_DFB():\n",
    "    dfb = XL_to_DFB('df2gSheetTester.xlsx')\n",
    "    write_DFB(dfb,'test2.xls')\n",
    "    \n",
    "    gsURL='https://docs.google.com/spreadsheets/d/1y19PMDTSqZkpW3UcwqG81tQMAH_g91iIqjrmBN_jTRw/edit#gid=1856401945'\n",
    "    write_DFB(dfb,gsURL)\n",
    "\n",
    "if TESTING: \n",
    "    test_write_DFB()"
   ]
  },
  {
   "cell_type": "code",
   "execution_count": null,
   "metadata": {},
   "outputs": [],
   "source": []
  },
  {
   "cell_type": "code",
   "execution_count": null,
   "metadata": {},
   "outputs": [],
   "source": []
  }
 ],
 "metadata": {
  "kernelspec": {
   "display_name": "Python 3",
   "language": "python",
   "name": "python3"
  },
  "language_info": {
   "codemirror_mode": {
    "name": "ipython",
    "version": 3
   },
   "file_extension": ".py",
   "mimetype": "text/x-python",
   "name": "python",
   "nbconvert_exporter": "python",
   "pygments_lexer": "ipython3",
   "version": "3.6.8"
  }
 },
 "nbformat": 4,
 "nbformat_minor": 2
}
