{
 "cells": [
  {
   "cell_type": "markdown",
   "metadata": {},
   "source": [
    "## pySheets:  \n",
    "### read andwrite pandas data to and from Excel and google Worksheets \n",
    "#### Introduction"
   ]
  },
  {
   "cell_type": "markdown",
   "metadata": {},
   "source": [
    "pySheets uses python to transfer data between spreadsheets (XLSs or Google) and easy-to-manipulate pandas Dataframes.  \n",
    "\n",
    "DataFrames are powerful objects, with a complicated.  PySheets provides some utilities for dealing with a more pythonic data object called (here) a DictArray.  (It's the equivalent of __df.to_excel('records')__\n",
    "\n",
    "### Reading and Writing \n",
    "\n",
    "* __getDFB(file_or_gsURL)__  retrieves data from a filepath or the URL of a googleSheet.\n",
    "* __writeDFB(DFB, file_or_gsURL)__ (writes data to a filepath or the URL of a googleSheet.\n",
    "\n",
    "Thus, to read or write an Excel file, you need its path (e.g., 'myExcelFile.xlsx')\n",
    "\n",
    "To read or write a Google Spreadsheet, you need \n",
    "\n",
    "* a credentials file, and the URL of the sheet.__\n",
    "    e.g., __gs = getGoogleSheet(credentialsFile, URL)__\n",
    "    ([Here](https://gspread.readthedocs.io/en/latest/oauth2.html) is how to get a credentials file.)\n",
    "\n",
    "* and the spreadsheet must be shared with the \"user\" identified in the credentials file.\n",
    "\n",
    "We call the resulting data structure a \"DataFrameBook\" or DBF)\n",
    "* An Excel or Google workbook may comprise multiple worksheets, each with it's own name. \n",
    "* __Note: when reading a google sheet, we assume the first row is column headings and we modify the resulting dataframe to preserve the spreadsheet's column ordering*__  \n",
    "\n",
    "\n",
    "* Similarly a DataFrameBook (a DFB) comprises one or more dataframes, as returned by *pd.read_excel*.\n",
    "\n",
    "\n",
    "    OrderedDict('nameOfFirstDF': firstDF,\n",
    "                'nameofSecondDF: secondDF')\n",
    "\n",
    "Then, you can read/write a file or spreadsheet to or from a DFB using __the only two functions you should have to use__ (assuming you have your credentials file, as for GoogleSheets.)\n",
    "* __getDFB(file_or_gsURL)__\n",
    "* __writeDFB(DFB, file_or_gsURL)__\n",
    "\n",
    "The Utilties we provide are \n",
    "* log\n",
    "* show\n",
    "* showDBF"
   ]
  },
  {
   "cell_type": "markdown",
   "metadata": {},
   "source": [
    "### utilities: log\n",
    "Write to pySheets.log.txt, newest first"
   ]
  },
  {
   "cell_type": "code",
   "execution_count": 1,
   "metadata": {},
   "outputs": [],
   "source": [
    "#!pip3 install -U -r requirements.txt\n",
    "from IPython.display import display, HTML\n",
    "TESTING=False\n",
    "VERBOSE_LOGGING=False\n",
    "EXPLAINING = False\n",
    "\n",
    "#!pip3 install arrow\n",
    "import arrow\n",
    "def now():\n",
    "    return arrow.utcnow().to('US/Eastern').format('MM/DD hh:mm a')\n",
    "    \n",
    "def log(*args):\n",
    "    msg = [str(arg) for arg in args]\n",
    "    msg=' '.join(msg)\n",
    "    import arrow\n",
    "    log=open('pySheets.log.txt', 'a')\n",
    "    output=str(now() + ' pySheets.log.txt: '   + msg)\n",
    "    log.write( output + '\\n' )\n",
    "    if VERBOSE_LOGGING: print( output )\n",
    "        \n",
    "        \n",
    "import pandas\n",
    "from pandas import DataFrame\n",
    "\n",
    "if TESTING: \n",
    "    log('abc','def', now())\n",
    "    !head pySheets.log.txt"
   ]
  },
  {
   "cell_type": "markdown",
   "metadata": {},
   "source": [
    "## introducing DataFrames and DictArrays\n",
    "pandas is all about DataFrames.  \n",
    "They display nicely in notebooks.\n",
    "\n",
    "One way to populate a DataFrame is by using an array of dicts or OrderedDicts.  \n",
    "I call an array of dicts a \"DictArray\""
   ]
  },
  {
   "cell_type": "code",
   "execution_count": 10,
   "metadata": {},
   "outputs": [],
   "source": [
    "if EXPLAINING:\n",
    "    import pandas\n",
    "    from pandas import DataFrame\n",
    "    dictArray = [dict(a=1,b=2),\n",
    "                 dict(a=3,b=4),\n",
    "                 dict(a=5,b=6)]\n",
    "\n",
    "    DataFrame(dictArray)"
   ]
  },
  {
   "cell_type": "markdown",
   "metadata": {},
   "source": [
    "###: showDF()\n",
    "\n",
    "As you see above, DataFrames display nicely in notebooks when they are the last item in a cell.\n",
    "\n",
    "But as you see below, they don't print so as nicely.   showDF addresses this issue."
   ]
  },
  {
   "cell_type": "code",
   "execution_count": null,
   "metadata": {},
   "outputs": [],
   "source": [
    "def showDF(df):\n",
    "    \"\"\"showDF renders dataframes even they are not the last item in a cell' )\"\"\"\n",
    "    display(HTML(df.to_html()))\n",
    "\n",
    "if EXPLAINING:\n",
    "    df = DataFrame(dictArray)\n",
    "    print(df)\n",
    "    print(\"\\nPrinting dataframes is not pretty.  \\n\\nSo here's showDF:\")\n",
    "    \n",
    "    showDF(df)\n",
    "\n",
    "    print('See? showDF renders dataframes nicely even in the middle of a cell.')"
   ]
  },
  {
   "cell_type": "markdown",
   "metadata": {},
   "source": [
    "### utlities: DictArray "
   ]
  },
  {
   "cell_type": "markdown",
   "metadata": {},
   "source": [
    "DataFrames are powerful but bewildering.\n",
    "DictArrays are simple python objects.  \n",
    "I sometimes find it convenient to convert a DataFrame into a DictArray.\n",
    "This is equivalent to __df.to_dict('records')__\n"
   ]
  },
  {
   "cell_type": "code",
   "execution_count": null,
   "metadata": {},
   "outputs": [],
   "source": [
    "from collections import OrderedDict\n",
    "\"\"\"\n",
    "def DictArray(df):\n",
    "    #DictArray converts a DataFrame into a Dictarray, just as DataFrame converts a DictArray into a Dataframe\n",
    "    colheads = list(df.keys())\n",
    "    values = df.values\n",
    "\n",
    "    dictArray = []\n",
    "    for rowIndex in range(len(df)):\n",
    "        rowDict=OrderedDict()\n",
    "        for colIndex,colhead in enumerate(colheads):\n",
    "            rowDict[colhead] = values[rowIndex, colIndex]\n",
    "        dictArray.append(rowDict)\n",
    "    \n",
    "    return dictArray\n",
    "\"\"\"\n",
    "\n",
    "def DictArray(df):\n",
    "    return df.to_dict('records')\n",
    "\n",
    "if EXPLAINING:\n",
    "    showDF(df)\n",
    "    da = DictArray(df)\n",
    "    print(da)"
   ]
  },
  {
   "cell_type": "markdown",
   "metadata": {},
   "source": [
    "### Convenience Functions for gridData: (da or df)\n",
    "DictArrays and DataFrames represent the same data. \n",
    "Here are some convenient functions for dealing with such \"gridData\" regardless of their format.\n",
    "* show()*  displays DictArrays /or/ DataFrames \n",
    "* rowValues()\n",
    "* colValues()"
   ]
  },
  {
   "cell_type": "code",
   "execution_count": null,
   "metadata": {},
   "outputs": [],
   "source": [
    "def show(gridData):\n",
    "    \"accept DF or DA\"\n",
    "    if type(gridData)==type([]):\n",
    "        gridData=DataFrame(gridData)\n",
    "    showDF(gridData)\n",
    "    \n",
    "DataFrameType = type(DataFrame())\n",
    "    \n",
    "def rowValues(gridData,index):\n",
    "    \"\"\" Accepts DF or DA \"\"\"\n",
    "    if type(gridData) == DataFrameType:  # then convert to DictAraay\n",
    "        gridData = DictArray(gridData)\n",
    "    \n",
    "    return list(gridData[index].values())\n",
    "        \n",
    "def colValues(gridData, key):\n",
    "    \"\"\" Accepts DF or DA \"\"\"\n",
    "    if type(gridData) == DataFrameType:  \n",
    "        gridData = DictArray(gridData)\n",
    "\n",
    "    return list(DataFrame(gridData)[key])\n",
    "\n",
    "\n",
    "if TESTING:\n",
    "    dictArray = [dict(a=1,b=2),\n",
    "                dict(a=3,b=4),\n",
    "                dict(a=5,b=6)]\n",
    "    \n",
    "    df = DataFrame(dictArray)\n",
    "    da = DictArray(df)\n",
    "    print('We went from DictArray to DataFrame and back, and the data match:',  da==dictArray)\n",
    "    print()\n",
    "    print('print(df) and print(da)', 'provide different renderings:')\n",
    "    print('print(df)\\n', df)\n",
    "    print()\n",
    "    print('print(da)\\n', da)\n",
    "    print()\n",
    "    print('But show(df) and show(da) provide the same pretty rendering:')\n",
    "    show(df)\n",
    "    show(da)\n",
    "    print()\n",
    "    print('Similarly, rowValues and colValues accept either DA or DF and return the same simple list of values:')\n",
    "    print('\\t rowValues with DF and DA:', rowValues(df,1),   rowValues(da,1) )  \n",
    "    print('\\t colValues with DF or DA:', colValues(df,'a'), colValues(da,'a') )\n"
   ]
  },
  {
   "cell_type": "markdown",
   "metadata": {},
   "source": [
    "## Introducing Spreadsheets\n",
    "Modern spreadsheets are structured as workbooks comprised of multiple worksheets.\n",
    "\n",
    "Each worksheet has its own name.\n",
    "Each worksheet is a dataGrid comprised of numbered rows and named columns.\n",
    "\n",
    "We model this as a dictionary of DataFrames or \"DataFrameBook\"."
   ]
  },
  {
   "cell_type": "markdown",
   "metadata": {},
   "source": [
    "### utilities: showDFB()\n",
    "for pretty printing of DFBs\n"
   ]
  },
  {
   "cell_type": "code",
   "execution_count": null,
   "metadata": {},
   "outputs": [],
   "source": [
    "def showDFB(dfb,msg='showDFB: '):\n",
    "    keys=list(dfb.keys())\n",
    "    display(HTML('<i><b>' + msg + '</i></b>' + '  This DataFrameBook contains these sheets:  <b>' + str(keys) + '</b>...'))\n",
    "    for key in keys:\n",
    "        display(HTML('<hr/>'))\n",
    "        display(HTML('<i>'+ key + '</i>'))\n",
    "        show(dfb[key])\n",
    "        \n",
    "if TESTING:\n",
    "    dfb=dict(Sheet1= DataFrame([   dict(a='Sheet1:row0a', b='Sheet1:row0b'),\n",
    "                                   dict(a='Sheet1:row0a', b='Sheet1:row1b')]),\n",
    "\n",
    "             Sheet2= DataFrame([ dict(a='Sheet2:row0a', b='Sheet2:row0b'),\n",
    "                                 dict(a='Sheet2:row1a', b='Sheet2:row1b')] ))\n",
    "    \n",
    "    showDFB(dfb)\n",
    "    \n",
    "### NOTE: showDFB will actually work with DictArrays as well as DataFrames but that's not true for other functions below."
   ]
  },
  {
   "cell_type": "markdown",
   "metadata": {
    "toc-hr-collapsed": false
   },
   "source": [
    "## enter GoogleSheets....\n",
    "\n",
    "Unlike an XLS file, the natural habitat of a GoogleSheet is doc.google.com, not a local file system.\n",
    "\n",
    "To access a googleSheet \n",
    "* it must be readable by the public \n",
    "* you need a credentials file.  \n",
    "* You need to have shared a googleSheet with the email address in the Credentials file.\n",
    "([Here](https://gspread.readthedocs.io/en/latest/oauth2.html) is how to get a credentials file.)\n",
    "\n",
    "Then you will be able will be able to use __get_DFB__ and __write_DFB__ to interact with GoogleSheets."
   ]
  },
  {
   "cell_type": "markdown",
   "metadata": {},
   "source": [
    "Soon, you will use **get_dfb** and **write_dfb** to read and write DFBs to your local hard drive (as xls files) or to Google Drive (as Google Sheets)\n",
    "\n",
    "But first we need to define the conversion Utilties that make this possible.  (You don't need to learn them)."
   ]
  },
  {
   "cell_type": "markdown",
   "metadata": {
    "toc-hr-collapsed": true
   },
   "source": [
    "## Internal utilities for converting between BDF and Excel, and for reading and writing to disk. \n",
    " \n",
    "<img src='https://www.evernote.com/l/AAEkhdm5GChC8ohEQuZgAPc1uvoABFMT-hIB/image.png' width=30% height=30%>"
   ]
  },
  {
   "cell_type": "markdown",
   "metadata": {},
   "source": [
    "#### internal function:  DBF <-> XL"
   ]
  },
  {
   "cell_type": "code",
   "execution_count": null,
   "metadata": {},
   "outputs": [],
   "source": [
    "#!pip3 install XlsxWriter\n",
    "\n",
    "def DFB_to_XL(DFB, fileName='test.xlsx'):\n",
    "    #https://xlsxwriter.readthedocs.io/example_pandas_multiple.html\n",
    "    writer = pandas.ExcelWriter(fileName, engine='xlsxwriter')\n",
    "    for name, df in DFB.items():\n",
    "        df.to_excel(writer, sheet_name=name, index=False)\n",
    "    writer.save()\n",
    "    log('DFB_to_XL:  Wrote to', fileName)\n",
    "\n",
    "def XL_to_DFB(fileName='df2gSheetTester.xlsx'):\n",
    "    \"\"\"take an xlsx file and return an ordered dict of DataFrames (DFB)\"\"\"\n",
    "    log('xl_to_DFB:  Reading', fileName)\n",
    "    return pandas.read_excel(fileName,sheet_name=None)\n",
    "\n",
    "def test_DFB_XL_DFB():\n",
    "    DFB_to_XL(dfb,'test.xls')\n",
    "    new_dfb = XL_to_DFB('test.xls')\n",
    "    \n",
    "    showDFB(dfb, 'original dfb')\n",
    "    print()\n",
    "    showDFB(new_dfb, 'reconstructed dfb')\n",
    " \n",
    "if TESTING:  \n",
    "    test_DFB_XL_DFB()\n",
    "    "
   ]
  },
  {
   "cell_type": "markdown",
   "metadata": {},
   "source": []
  },
  {
   "cell_type": "markdown",
   "metadata": {
    "toc-hr-collapsed": false
   },
   "source": [
    "#### Internal function: getGoogleSheets"
   ]
  },
  {
   "cell_type": "code",
   "execution_count": null,
   "metadata": {},
   "outputs": [],
   "source": [
    "#!pip3 install pygsheets\n",
    "import pygsheets\n",
    "\n",
    "CREDENTIALSFILE = 'enablebadger-b31383b767ef.json'\n",
    "pySheetsTesterURL = 'https://docs.google.com/spreadsheets/d/1y19PMDTSqZkpW3UcwqG81tQMAH_g91iIqjrmBN_jTRw/edit#gid=0'\n",
    "\n",
    "def getGoogleSheet(gsURL=pySheetsTesterURL,\n",
    "                  credentialsFile = CREDENTIALSFILE):\n",
    "    \"\"\"\n",
    "    1. Have credentials in credentials fileName.  [get google drive api credentials]\n",
    "    2. Sheet must exist at URLofSheet\n",
    "    3. Sheet must be shared with the email addess in the credentialsFile\n",
    "    \"\"\"\n",
    "    googleClient = pygsheets.authorize(service_file=credentialsFile)\n",
    "    log('getGoogleSheet:  ', googleClient)\n",
    "    return googleClient.open_by_url(gsURL)\n",
    "\n",
    "def test_getGoogleSheet():\n",
    "    gs = getGoogleSheet()\n",
    "    print(gs.title, gs.worksheets())\n",
    "\n",
    "if TESTING: \n",
    "    test_getGoogleSheet()"
   ]
  },
  {
   "cell_type": "markdown",
   "metadata": {},
   "source": [
    "#### Internal functions:  DFB <-> GS"
   ]
  },
  {
   "cell_type": "code",
   "execution_count": null,
   "metadata": {},
   "outputs": [],
   "source": [
    "def GS_to_DFB(gsURL):\n",
    "    \"\"\"take the URL of a Gsheet and return a DFB\"\"\"\n",
    "    global gs  #TODO remove this;  probably from testing \n",
    "    #global topRow\n",
    "    gs=getGoogleSheet(gsURL)\n",
    "    from collections import OrderedDict\n",
    "    OD = OrderedDict()\n",
    "    for worksheet in gs.worksheets():\n",
    "        title = worksheet.title\n",
    "        df = DataFrame(worksheet.get_all_records())\n",
    "        \n",
    "        ## note we are presuming that row 1 is column headings\n",
    "        topRow=worksheet.get_row(1)\n",
    "        while '' in topRow: # remove columns with no headings\n",
    "            topRow.remove('')\n",
    "        df = df.reindex(columns=topRow)\n",
    "        \n",
    "        OD[title] = df\n",
    "    return OD \n",
    "\n",
    "def test_GS_to_DFB():\n",
    "    URL = 'https://docs.google.com/spreadsheets/d/1y19PMDTSqZkpW3UcwqG81tQMAH_g91iIqjrmBN_jTRw/edit#gid=0'\n",
    "    URL = 'https://docs.google.com/spreadsheets/d/1-EAzjpHbbaD6YWt0YGE2Vu3rXRXAvQIS4mq7uxKQmCs/edit#gid=0'\n",
    "    dfb = GS_to_DFB(URL)\n",
    "    showDFB(dfb, URL)\n",
    "\n",
    "if TESTING: \n",
    "    test_GS_to_DFB()"
   ]
  },
  {
   "cell_type": "code",
   "execution_count": null,
   "metadata": {},
   "outputs": [],
   "source": []
  },
  {
   "cell_type": "code",
   "execution_count": null,
   "metadata": {},
   "outputs": [],
   "source": [
    "def DFB_to_GS(DFB, gsURL):\n",
    "    gs = getGoogleSheet(gsURL)\n",
    "    while len(DFB)>len(gs.worksheets()): #add sheets if necessary\n",
    "        gs.add_worksheet('temp',1,1)\n",
    "    for i,title in enumerate(DFB.keys()):\n",
    "        gs[i].clear()\n",
    "        gs[i].title = title\n",
    "        gs[i].set_dataframe(DFB[title],(1,1))# insert the data\n",
    "    log('DFB_to_GS: updated', gs.title)\n",
    "\n",
    "def test_DFB_to_GS(): #test: sheet in cloud changes\n",
    "    DFB = XL_to_DFB('test.xls')\n",
    "    gsURL='https://docs.google.com/spreadsheets/d/1y19PMDTSqZkpW3UcwqG81tQMAH_g91iIqjrmBN_jTRw/edit#gid=1856401945'\n",
    "    DFB_to_GS(DFB,gsURL)\n",
    "\n",
    "if TESTING: \n",
    "    test_DFB_to_GS()"
   ]
  },
  {
   "cell_type": "markdown",
   "metadata": {},
   "source": [
    "## pySheets.get_DFB "
   ]
  },
  {
   "cell_type": "code",
   "execution_count": null,
   "metadata": {},
   "outputs": [],
   "source": [
    "def get_DFB(fileName_or_gsURL):\n",
    "    log('get_DFB:  working on', fileName_or_gsURL)\n",
    "    if fileName_or_gsURL.startswith('http'):\n",
    "        return GS_to_DFB(fileName_or_gsURL)\n",
    "    else:\n",
    "        return XL_to_DFB(fileName_or_gsURL)\n",
    "\n",
    "def test_get_DFB():\n",
    "    #dfb =  get_DFB('test2.xls')\n",
    "    #showDFB(dfb, 'DFB from test2.xls')\n",
    "    ProductionSheetURL = 'https://docs.google.com/spreadsheets/d/1-EAzjpHbbaD6YWt0YGE2Vu3rXRXAvQIS4mq7uxKQmCs/edit#gid=0'\n",
    "\n",
    "    dfb = get_DFB( ProductionSheetURL )\n",
    "    showDFB(dfb, 'DFB from google Sheet')\n",
    "\n",
    "if TESTING: \n",
    "    test_get_DFB()"
   ]
  },
  {
   "cell_type": "markdown",
   "metadata": {},
   "source": [
    "## pySheets.write_DFB"
   ]
  },
  {
   "cell_type": "code",
   "execution_count": null,
   "metadata": {},
   "outputs": [],
   "source": [
    "def write_DFB(dfb, fileName_or_gsURL):\n",
    "    \"\"\"Accepts filename or Google Sheets URL as destination\"\"\"\n",
    "    \n",
    "    log('write_DFB processing', dfb.keys(), fileName_or_gsURL)\n",
    "    \n",
    "    if fileName_or_gsURL.startswith('http'):\n",
    "        DFB_to_GS(dfb,fileName_or_gsURL)\n",
    "    else:\n",
    "        DFB_to_XL(dfb,fileName_or_gsURL)\n",
    "\n",
    "\n",
    "def test_write_DFB():\n",
    "    write_DFB(dfb,'test.xls')\n",
    "    \n",
    "    gsURL='https://docs.google.com/spreadsheets/d/1y19PMDTSqZkpW3UcwqG81tQMAH_g91iIqjrmBN_jTRw/edit#gid=1856401945'\n",
    "    write_DFB(dfb,gsURL)\n",
    "\n",
    "if TESTING: \n",
    "    test_write_DFB()"
   ]
  },
  {
   "cell_type": "code",
   "execution_count": null,
   "metadata": {},
   "outputs": [],
   "source": []
  },
  {
   "cell_type": "code",
   "execution_count": null,
   "metadata": {},
   "outputs": [],
   "source": []
  }
 ],
 "metadata": {
  "kernelspec": {
   "display_name": "Python 3",
   "language": "python",
   "name": "python3"
  },
  "language_info": {
   "codemirror_mode": {
    "name": "ipython",
    "version": 3
   },
   "file_extension": ".py",
   "mimetype": "text/x-python",
   "name": "python",
   "nbconvert_exporter": "python",
   "pygments_lexer": "ipython3",
   "version": "3.7.4"
  },
  "neptune": {
   "notebookId": "bdef9176-f50c-4a66-9f6e-3b296eefe267"
  }
 },
 "nbformat": 4,
 "nbformat_minor": 4
}
